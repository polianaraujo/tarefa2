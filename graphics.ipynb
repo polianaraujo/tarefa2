{
 "cells": [
  {
   "cell_type": "code",
   "execution_count": null,
   "metadata": {},
   "outputs": [],
   "source": [
    "import pandas as pd\n",
    "from sqlalchemy import create_engine\n",
    "\n",
    "# Configurar conexão com MySQL\n",
    "usuario = \"seu_usuario\"\n",
    "senha = \"sua_senha\"\n",
    "host = \"seu_host\"  # Exemplo: \"localhost\"\n",
    "banco = \"seu_banco\"\n",
    "\n",
    "# Criando a conexão com o banco de dados\n",
    "engine = create_engine(f\"mysql+mysqlconnector://{usuario}:{senha}@{host}/{banco}\")\n",
    "\n",
    "# Caminho relativo ao arquivo SQL dentro da pasta DBT\n",
    "sql_file_path = \"../DBT/consulta.sql\"\n",
    "\n",
    "# Ler a query do arquivo SQL\n",
    "with open(sql_file_path, \"r\", encoding=\"utf-8\") as file:\n",
    "    query = file.read()\n",
    "\n",
    "# Executar a query no banco de dados e carregar os dados em um DataFrame Pandas\n",
    "df = pd.read_sql(query, engine)\n",
    "\n",
    "# Visualizar os primeiros registros\n",
    "print(df.head())\n",
    "\n",
    "# Fechar a conexão\n",
    "engine.dispose()\n"
   ]
  }
 ],
 "metadata": {
  "kernelspec": {
   "display_name": "cd",
   "language": "python",
   "name": "python3"
  },
  "language_info": {
   "name": "python",
   "version": "3.10.16"
  }
 },
 "nbformat": 4,
 "nbformat_minor": 2
}
